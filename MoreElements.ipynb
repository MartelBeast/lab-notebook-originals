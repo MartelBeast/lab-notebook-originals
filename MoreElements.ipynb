{
  "nbformat": 4,
  "nbformat_minor": 0,
  "metadata": {
    "kernelspec": {
      "display_name": "Python 3",
      "language": "python",
      "name": "python3"
    },
    "language_info": {
      "codemirror_mode": {
        "name": "ipython",
        "version": 3
      },
      "file_extension": ".py",
      "mimetype": "text/x-python",
      "name": "python",
      "nbconvert_exporter": "python",
      "pygments_lexer": "ipython3",
      "version": "3.7.3"
    },
    "colab": {
      "name": "MoreElements.ipynb",
      "provenance": [],
      "include_colab_link": true
    }
  },
  "cells": [
    {
      "cell_type": "markdown",
      "metadata": {
        "id": "view-in-github",
        "colab_type": "text"
      },
      "source": [
        "<a href=\"https://colab.research.google.com/github/lmu-cmsi1010-fall2021/lab-notebook-originals/blob/main/MoreElements.ipynb\" target=\"_parent\"><img src=\"https://colab.research.google.com/assets/colab-badge.svg\" alt=\"Open In Colab\"/></a>"
      ]
    },
    {
      "cell_type": "markdown",
      "metadata": {
        "id": "CM_pE63sUlXS"
      },
      "source": [
        "***\n",
        "## Statements and expressions\n",
        "\n",
        "**expression:** combination of values, variables, and operators, expressions are evaluated \n",
        "\n",
        "**statement:** executable unit of code, statements are executed\n",
        "\n",
        "So far we've seen print, assignment, and import statements. More to come!\n",
        "\n",
        "_Example statements:_"
      ]
    },
    {
      "cell_type": "code",
      "metadata": {
        "id": "KYALnemaUlXV"
      },
      "source": [
        "width = 18"
      ],
      "execution_count": null,
      "outputs": []
    },
    {
      "cell_type": "code",
      "metadata": {
        "id": "-SgmOhbgUlXW"
      },
      "source": [
        "height = 12.0"
      ],
      "execution_count": null,
      "outputs": []
    },
    {
      "cell_type": "code",
      "metadata": {
        "id": "ENCDKdQgUlXW"
      },
      "source": [
        "delimiter = '.'"
      ],
      "execution_count": null,
      "outputs": []
    },
    {
      "cell_type": "code",
      "metadata": {
        "id": "ryW5sgy2UlXW"
      },
      "source": [
        "import datetime"
      ],
      "execution_count": null,
      "outputs": []
    },
    {
      "cell_type": "code",
      "metadata": {
        "id": "j1zCtZkZUlXW"
      },
      "source": [
        "print(\"Today is \"+ str(datetime.datetime.today()))"
      ],
      "execution_count": null,
      "outputs": []
    },
    {
      "cell_type": "markdown",
      "metadata": {
        "id": "7fOPjB6RUlXX"
      },
      "source": [
        "_Example expressions:_"
      ]
    },
    {
      "cell_type": "code",
      "metadata": {
        "id": "L7cJyom-UlXX"
      },
      "source": [
        "width/2"
      ],
      "execution_count": null,
      "outputs": []
    },
    {
      "cell_type": "code",
      "metadata": {
        "id": "2TG7YkjUUlXX"
      },
      "source": [
        "height/2.0"
      ],
      "execution_count": null,
      "outputs": []
    },
    {
      "cell_type": "code",
      "metadata": {
        "id": "Pt-ipoUdUlXX"
      },
      "source": [
        "delimiter * 3"
      ],
      "execution_count": null,
      "outputs": []
    },
    {
      "cell_type": "code",
      "metadata": {
        "id": "7aBHPkz-UlXY"
      },
      "source": [
        "type(datetime.datetime.today())"
      ],
      "execution_count": null,
      "outputs": []
    },
    {
      "cell_type": "code",
      "metadata": {
        "id": "tiFCXWWWUlXY"
      },
      "source": [
        "True or False"
      ],
      "execution_count": null,
      "outputs": []
    },
    {
      "cell_type": "code",
      "metadata": {
        "id": "kitOPModUlXY"
      },
      "source": [
        "\"a\" in \"bananas\""
      ],
      "execution_count": null,
      "outputs": []
    },
    {
      "cell_type": "code",
      "metadata": {
        "id": "peVjMM8VUlXY"
      },
      "source": [
        "delimiter is not \",\""
      ],
      "execution_count": null,
      "outputs": []
    },
    {
      "cell_type": "markdown",
      "metadata": {
        "id": "XRHO59a4UlXZ"
      },
      "source": [
        "**Nested Expressions**\n",
        "\n",
        "See [Composing Programs 1.2.5](http://composingprograms.com/pages/12-elements-of-programming.html#evaluating-nested-expressions)"
      ]
    },
    {
      "cell_type": "code",
      "metadata": {
        "id": "YFv0VLRsUlXZ"
      },
      "source": [
        "from operator import add, sub, mul\n",
        "\n",
        "sub(pow(2, add(2, 9)), mul(7, 4))"
      ],
      "execution_count": null,
      "outputs": []
    },
    {
      "cell_type": "code",
      "metadata": {
        "id": "bT409GgUUlXZ"
      },
      "source": [
        "add(5*7,8+6)"
      ],
      "execution_count": null,
      "outputs": []
    },
    {
      "cell_type": "markdown",
      "metadata": {
        "id": "4sIQuDrxUlXa"
      },
      "source": [
        "***\n",
        "## Errors\n",
        "\n",
        "See *Think Python* [Apendix A](http://greenteapress.com/thinkpython2/html/thinkpython2021.html)\n",
        "\n",
        "**syntax:** the interpreter has a problem with the code when it is translating it into byte code, often due to typos\n",
        "\n",
        "**runtime:** the interpreter finds an error while the program is running\n",
        "\n",
        "**semantic:** the program successfully executes, but produces unexpected/ incorrect results "
      ]
    },
    {
      "cell_type": "code",
      "metadata": {
        "id": "TSKRMyyOUlXa"
      },
      "source": [
        "# syntax errors\n",
        "\n",
        "print('my first \"string\"', \"and my second 'string'\")\n",
        "print(\"enclose a string in 'single' or \"double\" quotes\")"
      ],
      "execution_count": null,
      "outputs": []
    },
    {
      "cell_type": "code",
      "metadata": {
        "id": "D4yzLj0VUlXa"
      },
      "source": [
        "sub(pow(2, add(2, 10)), pow(2, 4))"
      ],
      "execution_count": null,
      "outputs": []
    },
    {
      "cell_type": "code",
      "metadata": {
        "id": "dqWkThOAUlXa"
      },
      "source": [
        "# runtime errors\n",
        "\n",
        "myString = \"Lions and tigers and bears\"\n",
        "myString[99]"
      ],
      "execution_count": null,
      "outputs": []
    },
    {
      "cell_type": "code",
      "metadata": {
        "id": "S6gpkU98UlXa"
      },
      "source": [
        "x = 1\n",
        "while (x > 0):\n",
        "    x += 1"
      ],
      "execution_count": null,
      "outputs": []
    },
    {
      "cell_type": "code",
      "metadata": {
        "id": "QgSo2oznUlXb"
      },
      "source": [
        "# semantic errors\n",
        "def square(x):\n",
        "    return x * x\n",
        "\n",
        "x = 8"
      ],
      "execution_count": null,
      "outputs": []
    },
    {
      "cell_type": "code",
      "metadata": {
        "id": "9Gftswo-UlXb"
      },
      "source": [
        "if type(x/2) is int:\n",
        "    print(\"x is even\")\n",
        "else:\n",
        "    print(\"x is odd\")"
      ],
      "execution_count": null,
      "outputs": []
    },
    {
      "cell_type": "code",
      "metadata": {
        "id": "oj3wjLEHUlXb"
      },
      "source": [
        "if x%2==0:\n",
        "    print(\"x is even\")\n",
        "else:\n",
        "    print(\"x is odd\")"
      ],
      "execution_count": null,
      "outputs": []
    },
    {
      "cell_type": "markdown",
      "metadata": {
        "id": "cmHpAnVOUlXc"
      },
      "source": [
        "## User input\n",
        "\n",
        "`input()` is a function we can use to solicit input from a user. The input function can take a string argument that becomes the prompt, or it can take no argument and simply produce a box for input. The user's input is interpreted as a string."
      ]
    },
    {
      "cell_type": "code",
      "metadata": {
        "id": "L_gfELe8UlXc"
      },
      "source": [
        "input()"
      ],
      "execution_count": null,
      "outputs": []
    },
    {
      "cell_type": "code",
      "metadata": {
        "id": "EHfiSAieUlXc"
      },
      "source": [
        "user_input = input()\n",
        "user_input"
      ],
      "execution_count": null,
      "outputs": []
    },
    {
      "cell_type": "code",
      "metadata": {
        "id": "nyXbYJPvUlXc"
      },
      "source": [
        "age = input('How old are you? ')\n",
        "age"
      ],
      "execution_count": null,
      "outputs": []
    },
    {
      "cell_type": "markdown",
      "metadata": {
        "id": "96xAFvl_UlXd"
      },
      "source": [
        "We can import additional methods of collecting input."
      ]
    },
    {
      "cell_type": "code",
      "metadata": {
        "id": "xXZP-9FZUlXd"
      },
      "source": [
        "from getpass import getpass\n",
        "\n",
        "real_age = getpass(\"How old are you really? \")"
      ],
      "execution_count": null,
      "outputs": []
    },
    {
      "cell_type": "code",
      "metadata": {
        "id": "vNmqj0X5UlXe"
      },
      "source": [
        "from ipywidgets import widgets\n",
        "\n",
        "x=widgets.IntSlider(min=3,max=122)\n",
        "x"
      ],
      "execution_count": null,
      "outputs": []
    },
    {
      "cell_type": "code",
      "metadata": {
        "id": "JXvcwH8MUlXf"
      },
      "source": [
        "age = x.value\n",
        "age"
      ],
      "execution_count": null,
      "outputs": []
    },
    {
      "cell_type": "markdown",
      "metadata": {
        "id": "PBTE7rbEUlXg"
      },
      "source": [
        "### Mad Lib Lab Time\n",
        "**In partners or small groups:** Use the remaining class time to write Python [Mad Libs](https://en.wikipedia.org/wiki/Mad_Libs). Prompt a user for words of a certain category (e.g., noun, number, animal, adjective...) and then print the resulting story for them. You can find a template online or make one up yourself.\n",
        "\n",
        "_Optional:_ include a slider or password input that contributes to the Mad Lib experience"
      ]
    },
    {
      "cell_type": "code",
      "metadata": {
        "id": "m2ujGI5kUlXh"
      },
      "source": [
        "..."
      ],
      "execution_count": null,
      "outputs": []
    }
  ]
}