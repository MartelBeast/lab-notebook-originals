{
  "nbformat": 4,
  "nbformat_minor": 0,
  "metadata": {
    "kernelspec": {
      "display_name": "Python 3",
      "language": "python",
      "name": "python3"
    },
    "language_info": {
      "codemirror_mode": {
        "name": "ipython",
        "version": 3
      },
      "file_extension": ".py",
      "mimetype": "text/x-python",
      "name": "python",
      "nbconvert_exporter": "python",
      "pygments_lexer": "ipython3",
      "version": "3.7.3"
    },
    "colab": {
      "name": "02 ElementsOfProgramming.ipynb",
      "provenance": [],
      "include_colab_link": true
    }
  },
  "cells": [
    {
      "cell_type": "markdown",
      "metadata": {
        "id": "view-in-github",
        "colab_type": "text"
      },
      "source": [
        "<a href=\"https://colab.research.google.com/github/lmu-cmsi1010-fall2021/lab-notebook-originals/blob/main/ElementsOfProgramming.ipynb\" target=\"_parent\"><img src=\"https://colab.research.google.com/assets/colab-badge.svg\" alt=\"Open In Colab\"/></a>"
      ]
    },
    {
      "cell_type": "markdown",
      "metadata": {
        "id": "Ax_-DX5s96B1"
      },
      "source": [
        "# Values and Types\n",
        "***\n",
        "\n",
        "**value**: basic unit of data manipulated by programs\n",
        "\n",
        "values *have* types\n",
        "\n",
        "**type**: category of values, such as integers (int), floating-point numbers (float), and strings (str), booleans (bool), etc."
      ]
    },
    {
      "cell_type": "code",
      "metadata": {
        "id": "CvXCprY596B1"
      },
      "source": [
        "# Try me: 0, 0.1134, \"Hello\", 'hello', hello, \"สวัสดี\", \"Strings are special\", greeting = \"sup!?\", 1,000,000\n",
        "# true, False, False = True, true = False, True == False, print, ..., *, # is a comment a type? why or why not?\n",
        "\"\"\"\n",
        "what about a multi-line comment?\n",
        "\"\"\"\n",
        "\n",
        "type(...)"
      ],
      "execution_count": null,
      "outputs": []
    },
    {
      "cell_type": "markdown",
      "metadata": {
        "id": "m46aF7UT96B2"
      },
      "source": [
        "---\n",
        "### Strings are special\n",
        "\n",
        "Almost no matter what we put in single or double quotes, Python accepts our `str`. If our string contains single or double quotation marks, the string should be placed in double or single quotes respectively. If the string *must* contain both single and double quotation marks for some reason... we must \"escape\" the problem quotation mark(s) with a preceeding '\\\\'"
      ]
    },
    {
      "cell_type": "code",
      "metadata": {
        "id": "UhLKXe2296B3"
      },
      "source": [
        "print('my first \"string\"', \"and my second 'string'\")"
      ],
      "execution_count": null,
      "outputs": []
    },
    {
      "cell_type": "code",
      "metadata": {
        "id": "jFLJvbsH96B3"
      },
      "source": [
        "print(\"enclose a string in 'single' or \"double\" quotes\")"
      ],
      "execution_count": null,
      "outputs": []
    },
    {
      "cell_type": "markdown",
      "metadata": {
        "id": "XVPfdRNp96B3"
      },
      "source": [
        "Strings can sometimes be used in expressions with the `+` or `*` operators. Combining strings end to end is called *concatination*. "
      ]
    },
    {
      "cell_type": "code",
      "metadata": {
        "id": "gmL1NuNd96B3"
      },
      "source": [
        "\"LOL \" + \"so funny\""
      ],
      "execution_count": null,
      "outputs": []
    },
    {
      "cell_type": "code",
      "metadata": {
        "id": "LUSjzaIE96B4"
      },
      "source": [
        "\"ha\" * 10"
      ],
      "execution_count": null,
      "outputs": []
    },
    {
      "cell_type": "markdown",
      "metadata": {
        "id": "J1oo6g3796B4"
      },
      "source": [
        "Each character in a string has a index, where in the string it sits. We can access the characters using `[int]` and `[::]`."
      ]
    },
    {
      "cell_type": "code",
      "metadata": {
        "id": "mg4iiuTR96B4"
      },
      "source": [
        "\"rofl\"[2]"
      ],
      "execution_count": null,
      "outputs": []
    },
    {
      "cell_type": "markdown",
      "metadata": {
        "id": "_5Dkadb596B4"
      },
      "source": [
        "Without getting too ahead of ourselves, strings are also *comparable.* `==` is the operator for comparing whether values are equal. We can also use `<` and `>`. One string is `>` than another if it is alphabetically preceding."
      ]
    },
    {
      "cell_type": "code",
      "metadata": {
        "id": "sjykTihR96B5"
      },
      "source": [
        "'apples'=='apples'"
      ],
      "execution_count": null,
      "outputs": []
    },
    {
      "cell_type": "markdown",
      "metadata": {
        "id": "pdmPfXM396B5"
      },
      "source": [
        "`in` is another operator that can be used in evaluating strings. `in` returns `True` if the preceding string appears as a substring of the second string."
      ]
    },
    {
      "cell_type": "code",
      "metadata": {
        "id": "qbkvSGUm96B5"
      },
      "source": [
        "'a' in 'banana'"
      ],
      "execution_count": null,
      "outputs": []
    },
    {
      "cell_type": "markdown",
      "metadata": {
        "id": "2ShbVCOu96B5"
      },
      "source": [
        "***\n",
        "## Variables\n",
        "\n",
        "**variable:** name that refers to a value\n",
        "\n",
        "**assignment statement:** creates new variable(s) and *binds* them to values, the `=` is the *assignment operator*"
      ]
    },
    {
      "cell_type": "code",
      "metadata": {
        "id": "ow00OMRe96B6"
      },
      "source": [
        "pi = 3.14\n",
        "pi"
      ],
      "execution_count": null,
      "outputs": []
    },
    {
      "cell_type": "markdown",
      "metadata": {
        "id": "mnu0IIkt96B6"
      },
      "source": [
        "Variables can also be imported."
      ]
    },
    {
      "cell_type": "code",
      "metadata": {
        "id": "--iVokeH96B6"
      },
      "source": [
        "from math import pi\n",
        "pi"
      ],
      "execution_count": null,
      "outputs": []
    },
    {
      "cell_type": "code",
      "metadata": {
        "id": "Z3HofUK_96B6"
      },
      "source": [
        "radius = 23\n",
        "area = pi * pow(radius, 2)\n",
        "area"
      ],
      "execution_count": null,
      "outputs": []
    },
    {
      "cell_type": "markdown",
      "metadata": {
        "id": "Glh3blrH96B7"
      },
      "source": [
        "\"In this way, complex programs are constructed by building, step by step, computational objects of increasing complexity.\" \\- [Composing Programs 1.2](http://composingprograms.com/pages/12-elements-of-programming.html#names-and-the-environment)\n",
        "***\n",
        "**Names and the environment**\n",
        "\n",
        "Variables have names, but remember so do functions! When we use the assignment operator, we control what names are bound to which values *or* functions..."
      ]
    },
    {
      "cell_type": "code",
      "metadata": {
        "id": "_x5-DH1096B7"
      },
      "source": [
        "morePi = pi + 1\n",
        "morePi"
      ],
      "execution_count": null,
      "outputs": []
    },
    {
      "cell_type": "code",
      "metadata": {
        "id": "1bdAaHyC96B7"
      },
      "source": [
        "max"
      ],
      "execution_count": null,
      "outputs": []
    },
    {
      "cell_type": "code",
      "metadata": {
        "id": "EBZRScie96B7"
      },
      "source": [
        "pi = max\n",
        "max = morePi\n",
        "\n",
        "max"
      ],
      "execution_count": null,
      "outputs": []
    },
    {
      "cell_type": "code",
      "metadata": {
        "id": "Y653Pccg96B7"
      },
      "source": [
        "max(pi, morePi) # now what!?"
      ],
      "execution_count": null,
      "outputs": []
    },
    {
      "cell_type": "markdown",
      "metadata": {
        "id": "ES4kUEW-96B8"
      },
      "source": [
        "We sneakily reassigned `max` the function to `max` the value. This is *legal*, but it's not cool. While Python does allow reassigning function names like this, it will not allow *keywords* to be used as variable names. Check out the error we get. We'll look at different types of errors more closely next time.\n",
        "\n",
        "---\n",
        "\n",
        "**Keywords and naming variables**"
      ]
    },
    {
      "cell_type": "code",
      "metadata": {
        "id": "JuIqcFkB96B8"
      },
      "source": [
        "import = pi"
      ],
      "execution_count": null,
      "outputs": []
    },
    {
      "cell_type": "code",
      "metadata": {
        "id": "MHOnKcXQ96B8"
      },
      "source": [
        "greeting = \"Hi \"\n",
        "name = \"IGGY\"\n",
        "\n",
        "Greeting + name"
      ],
      "execution_count": null,
      "outputs": []
    },
    {
      "cell_type": "code",
      "metadata": {
        "id": "M1pggVr_96B8"
      },
      "source": [
        "print(greeting + name)\n",
        "\n",
        "greeting + \"neighbor\""
      ],
      "execution_count": null,
      "outputs": []
    }
  ]
}