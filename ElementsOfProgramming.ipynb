{
  "nbformat": 4,
  "nbformat_minor": 0,
  "metadata": {
    "kernelspec": {
      "display_name": "Python 3",
      "language": "python",
      "name": "python3"
    },
    "language_info": {
      "codemirror_mode": {
        "name": "ipython",
        "version": 3
      },
      "file_extension": ".py",
      "mimetype": "text/x-python",
      "name": "python",
      "nbconvert_exporter": "python",
      "pygments_lexer": "ipython3",
      "version": "3.7.3"
    },
    "colab": {
      "name": "ElementsOfProgramming.ipynb",
      "provenance": [],
      "include_colab_link": true
    }
  },
  "cells": [
    {
      "cell_type": "markdown",
      "metadata": {
        "id": "view-in-github",
        "colab_type": "text"
      },
      "source": [
        "<a href=\"https://colab.research.google.com/github/lmu-cmsi1010-fall2021/lab-notebook-originals/blob/main/ElementsOfProgramming.ipynb\" target=\"_parent\"><img src=\"https://colab.research.google.com/assets/colab-badge.svg\" alt=\"Open In Colab\"/></a>"
      ]
    },
    {
      "cell_type": "markdown",
      "metadata": {
        "id": "Wu3lANHgT9AZ"
      },
      "source": [
        "# Lecture examples for Jan 16\n",
        "***\n",
        "## Values and Types\n",
        "\n",
        "**value**: basic unit of data manipulated by programs\n",
        "\n",
        "values *have* types\n",
        "\n",
        "**type**: category of values, such as integers (int), floating-point numbers (float), and strings (str), booleans (bool), etc."
      ]
    },
    {
      "cell_type": "code",
      "metadata": {
        "id": "m_BJQS46T9Aa"
      },
      "source": [
        "# Try me: 0, 0.1134, \"Hello\", 'hello', hello, \"สวัสดี\", \"Strings are special\", greeting = \"sup!?\", 1,000,000\n",
        "# true, False, False = True, true = False, True == False, print, ..., *, # is a comment a type? why or why not?\n",
        "\"\"\"\n",
        "what about a multi-line comment?\n",
        "\"\"\"\n",
        "\n",
        "type(...)"
      ],
      "execution_count": null,
      "outputs": []
    },
    {
      "cell_type": "markdown",
      "metadata": {
        "id": "Lv4ad7IiT9Ac"
      },
      "source": [
        "---\n",
        "### Strings are special\n",
        "\n",
        "Almost no matter what we put in single or double quotes, Python accepts our `str`. If our string contains single or double quotation marks, the string should be placed in double or single quotes respectively. If the string *must* contain both single and double quotation marks for some reason... we must \"escape\" the problem quotation mark(s) with a preceeding '\\\\'"
      ]
    },
    {
      "cell_type": "code",
      "metadata": {
        "id": "NHwl6ZSdT9Ad"
      },
      "source": [
        "print('my first \"string\"', \"and my second 'string'\")"
      ],
      "execution_count": null,
      "outputs": []
    },
    {
      "cell_type": "code",
      "metadata": {
        "id": "YJ7ViNG9T9Ad"
      },
      "source": [
        "print(\"enclose a string in 'single' or \"double\" quotes\")"
      ],
      "execution_count": null,
      "outputs": []
    },
    {
      "cell_type": "markdown",
      "metadata": {
        "id": "IC58_EYqT9Ad"
      },
      "source": [
        "Strings can sometimes be used in expressions with the `+` or `*` operators. Combining strings end to end is called *concatination*. "
      ]
    },
    {
      "cell_type": "code",
      "metadata": {
        "id": "RMRU6KsCT9Ad"
      },
      "source": [
        "\"LOL \" + \"so funny\""
      ],
      "execution_count": null,
      "outputs": []
    },
    {
      "cell_type": "code",
      "metadata": {
        "id": "sQ5GAl2RT9Ad"
      },
      "source": [
        "\"ha\" * 10"
      ],
      "execution_count": null,
      "outputs": []
    },
    {
      "cell_type": "markdown",
      "metadata": {
        "id": "4prfaVKZT9Ae"
      },
      "source": [
        "Each character in a string has a index, where in the string it sits. We can access the characters using `[int]` and `[::]`."
      ]
    },
    {
      "cell_type": "code",
      "metadata": {
        "id": "WdR3WK33T9Ae"
      },
      "source": [
        "\"rofl\"[2]"
      ],
      "execution_count": null,
      "outputs": []
    },
    {
      "cell_type": "markdown",
      "metadata": {
        "id": "wBX9woi3T9Ae"
      },
      "source": [
        "Without getting too ahead of ourselves, strings are also *comparable.* `==` is the operator for comparing whether values are equal. We can also use `<` and `>`. One string is `>` than another if it is alphabetically preceding."
      ]
    },
    {
      "cell_type": "code",
      "metadata": {
        "id": "fmZLTbDmT9Ae"
      },
      "source": [
        "'apples'=='apples'"
      ],
      "execution_count": null,
      "outputs": []
    },
    {
      "cell_type": "markdown",
      "metadata": {
        "id": "mnbIwDDvT9Ae"
      },
      "source": [
        "`in` is another operator that can be used in evaluating strings. `in` returns `True` if the preceding string appears as a substring of the second string."
      ]
    },
    {
      "cell_type": "code",
      "metadata": {
        "id": "DAMTT6KjT9Ae"
      },
      "source": [
        "'a' in 'banana'"
      ],
      "execution_count": null,
      "outputs": []
    },
    {
      "cell_type": "markdown",
      "metadata": {
        "id": "XDqUBbzxT9Af"
      },
      "source": [
        "***\n",
        "## Variables\n",
        "\n",
        "**variable:** name that refers to a value\n",
        "\n",
        "**assignment statement:** creates new variable(s) and *binds* them to values, the `=` is the *assignment operator*"
      ]
    },
    {
      "cell_type": "code",
      "metadata": {
        "id": "vpvoe9LxT9Af"
      },
      "source": [
        "pi = 3.14\n",
        "pi"
      ],
      "execution_count": null,
      "outputs": []
    },
    {
      "cell_type": "markdown",
      "metadata": {
        "id": "4Xc4Ah5_T9Af"
      },
      "source": [
        "Variables can also be imported."
      ]
    },
    {
      "cell_type": "code",
      "metadata": {
        "id": "yYDrRmTRT9Af"
      },
      "source": [
        "from math import pi\n",
        "pi"
      ],
      "execution_count": null,
      "outputs": []
    },
    {
      "cell_type": "code",
      "metadata": {
        "id": "dNnaaH_BT9Ag"
      },
      "source": [
        "radius = 23\n",
        "area = pi * pow(radius, 2)\n",
        "area"
      ],
      "execution_count": null,
      "outputs": []
    },
    {
      "cell_type": "markdown",
      "metadata": {
        "id": "VFLzTVUlT9Ag"
      },
      "source": [
        "\"In this way, complex programs are constructed by building, step by step, computational objects of increasing complexity.\" \\- [Composing Programs 1.2](http://composingprograms.com/pages/12-elements-of-programming.html#names-and-the-environment)\n",
        "***\n",
        "**Names and the environment**\n",
        "\n",
        "Variables have names, but remember so do functions! When we use the assignment operator, we control what names are bound to which values *or* functions..."
      ]
    },
    {
      "cell_type": "code",
      "metadata": {
        "id": "G_0KP-KwT9Ag"
      },
      "source": [
        "morePi = pi + 1\n",
        "morePi"
      ],
      "execution_count": null,
      "outputs": []
    },
    {
      "cell_type": "code",
      "metadata": {
        "id": "ZaoSzBYaT9Ag"
      },
      "source": [
        "max"
      ],
      "execution_count": null,
      "outputs": []
    },
    {
      "cell_type": "code",
      "metadata": {
        "id": "bQALDR24T9Ah"
      },
      "source": [
        "pi = max\n",
        "max = morePi\n",
        "\n",
        "max"
      ],
      "execution_count": null,
      "outputs": []
    },
    {
      "cell_type": "code",
      "metadata": {
        "id": "fpkWjl8KT9Ah"
      },
      "source": [
        "max(pi, morePi) # now what!?"
      ],
      "execution_count": null,
      "outputs": []
    },
    {
      "cell_type": "markdown",
      "metadata": {
        "id": "_nCqura7T9Ah"
      },
      "source": [
        "We sneakily reassigned `max` the function to `max` the value. This is *legal*, but it's not cool. While Python does allow reassigning function names like this, it will not allow *keywords* to be used as variable names. Check out the error we get. We'll look at different types of errors more closely next time.\n",
        "\n",
        "---\n",
        "\n",
        "**Keywords and naming variables**"
      ]
    },
    {
      "cell_type": "code",
      "metadata": {
        "id": "qTxMY8mIT9Ah"
      },
      "source": [
        "import = pi"
      ],
      "execution_count": null,
      "outputs": []
    },
    {
      "cell_type": "code",
      "metadata": {
        "id": "Q2PCihjDT9Ah"
      },
      "source": [
        "greeting = \"Hi \"\n",
        "name = \"IGGY\"\n",
        "\n",
        "Greeting + name"
      ],
      "execution_count": null,
      "outputs": []
    },
    {
      "cell_type": "code",
      "metadata": {
        "id": "2sR4nC0qT9Ai"
      },
      "source": [
        "print(greeting + name)\n",
        "\n",
        "greeting + \"neighbor\""
      ],
      "execution_count": null,
      "outputs": []
    }
  ]
}